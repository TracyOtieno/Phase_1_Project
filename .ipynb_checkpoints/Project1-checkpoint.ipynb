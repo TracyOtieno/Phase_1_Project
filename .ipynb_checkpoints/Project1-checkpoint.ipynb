{
 "cells": [
  {
   "cell_type": "markdown",
   "id": "f54eaa29-b8bd-4964-ae7b-b72313e0ffdd",
   "metadata": {},
   "source": [
    "# Phase 1 Project\n",
    "\n",
    "For this project, I am tasked with analyzing two datasets—\"AviationData.csv\" and \"USState_Codes.csv\"—to assist a company in its decision to expand into the aviation industry by purchasing aircraft. The analysis will focus on cleaning the data and extracting actionable insights to guide the head of the new aviation division in selecting aircraft that pose the lowest risk for commercial and private operations.\r\n",
    "ess decisions.\r\n"
   ]
  },
  {
   "cell_type": "markdown",
   "id": "7d84f72e-60c7-4c86-9376-87be34d3fdbb",
   "metadata": {},
   "source": [
    "### Aviation Dataset:\n",
    "The \"AviationData.csv\" dataset is an extensive collection of historical aircraft accidents and incidents, documenting key information about each event. This data spans both commercial and private aviation, covering a wide range of locations, primarily within the United States but also internationally. \n",
    " \n",
    "### US State Codes Dataset:\n",
    "The \"USState_Codes.csv\" dataset provides a mapping of state codes and names, which is useful for geospatial analysis when identifying accident locations across different U.S. states. \n",
    "\n"
   ]
  },
  {
   "cell_type": "markdown",
   "id": "d02ca262-be02-4e81-969d-9279ed329bbd",
   "metadata": {},
   "source": [
    "### Key Goals:\n",
    "By combining insights from both datasets, the objective is to:\n",
    "1. Clean and prepare the data to ensure accuracy and consistency.\n",
    "2. Translate these findings into actionable insights that will help the head of the new aviation division make informed decisions on which aircraft models to prioritize for safe and efficient operations.\n",
    "\n",
    "This analysis will ultimately provide a risk-based assessment of different aircraft, supporting safer and smarter business decisions.\n"
   ]
  },
  {
   "cell_type": "markdown",
   "id": "4621f04e-c3ed-4ebb-b49c-4b675a7d2631",
   "metadata": {},
   "source": [
    "### Getting Started\n",
    "\n",
    "1. Import pandas and set the standard alias\n",
    "2. Import matplotlib.pyplot and set the standard alias"
   ]
  },
  {
   "cell_type": "code",
   "execution_count": 87,
   "id": "f93d6ad8-6956-42c1-810c-c82f359699f7",
   "metadata": {},
   "outputs": [],
   "source": [
    "import pandas as pd\n",
    "import matplotlib.pyplot as plt\n",
    "#%matplotlib inline \n",
    "import seaborn as sns"
   ]
  },
  {
   "cell_type": "markdown",
   "id": "5f573818-7f08-41a0-9d2a-0108f2b6525c",
   "metadata": {},
   "source": [
    "### Load the data\n",
    "\n",
    "The data for this activity is stored in a file called 'AviationData.csv'"
   ]
  },
  {
   "cell_type": "code",
   "execution_count": 88,
   "id": "f8bb4e42-acc7-414a-b6fc-e48be372ce67",
   "metadata": {},
   "outputs": [],
   "source": [
    "#Loading the data set\n",
    "df = pd.read_csv('AviationData.csv', encoding = 'latin', low_memory=False )"
   ]
  },
  {
   "cell_type": "markdown",
   "id": "5ed11861-a0e0-41fb-bcb4-b42b137fdcb4",
   "metadata": {},
   "source": [
    "Now, display the head of the DataFrame to ensure everything loaded correctly."
   ]
  },
  {
   "cell_type": "code",
   "execution_count": 89,
   "id": "2f2955f7-9bca-41eb-a24b-138dc8c29f53",
   "metadata": {},
   "outputs": [
    {
     "data": {
      "text/html": [
       "<div>\n",
       "<style scoped>\n",
       "    .dataframe tbody tr th:only-of-type {\n",
       "        vertical-align: middle;\n",
       "    }\n",
       "\n",
       "    .dataframe tbody tr th {\n",
       "        vertical-align: top;\n",
       "    }\n",
       "\n",
       "    .dataframe thead th {\n",
       "        text-align: right;\n",
       "    }\n",
       "</style>\n",
       "<table border=\"1\" class=\"dataframe\">\n",
       "  <thead>\n",
       "    <tr style=\"text-align: right;\">\n",
       "      <th></th>\n",
       "      <th>Event.Id</th>\n",
       "      <th>Investigation.Type</th>\n",
       "      <th>Accident.Number</th>\n",
       "      <th>Event.Date</th>\n",
       "      <th>Location</th>\n",
       "      <th>Country</th>\n",
       "      <th>Latitude</th>\n",
       "      <th>Longitude</th>\n",
       "      <th>Airport.Code</th>\n",
       "      <th>Airport.Name</th>\n",
       "      <th>...</th>\n",
       "      <th>Purpose.of.flight</th>\n",
       "      <th>Air.carrier</th>\n",
       "      <th>Total.Fatal.Injuries</th>\n",
       "      <th>Total.Serious.Injuries</th>\n",
       "      <th>Total.Minor.Injuries</th>\n",
       "      <th>Total.Uninjured</th>\n",
       "      <th>Weather.Condition</th>\n",
       "      <th>Broad.phase.of.flight</th>\n",
       "      <th>Report.Status</th>\n",
       "      <th>Publication.Date</th>\n",
       "    </tr>\n",
       "  </thead>\n",
       "  <tbody>\n",
       "    <tr>\n",
       "      <th>0</th>\n",
       "      <td>20001218X45444</td>\n",
       "      <td>Accident</td>\n",
       "      <td>SEA87LA080</td>\n",
       "      <td>1948-10-24</td>\n",
       "      <td>MOOSE CREEK, ID</td>\n",
       "      <td>United States</td>\n",
       "      <td>NaN</td>\n",
       "      <td>NaN</td>\n",
       "      <td>NaN</td>\n",
       "      <td>NaN</td>\n",
       "      <td>...</td>\n",
       "      <td>Personal</td>\n",
       "      <td>NaN</td>\n",
       "      <td>2.0</td>\n",
       "      <td>0.0</td>\n",
       "      <td>0.0</td>\n",
       "      <td>0.0</td>\n",
       "      <td>UNK</td>\n",
       "      <td>Cruise</td>\n",
       "      <td>Probable Cause</td>\n",
       "      <td>NaN</td>\n",
       "    </tr>\n",
       "    <tr>\n",
       "      <th>1</th>\n",
       "      <td>20001218X45447</td>\n",
       "      <td>Accident</td>\n",
       "      <td>LAX94LA336</td>\n",
       "      <td>1962-07-19</td>\n",
       "      <td>BRIDGEPORT, CA</td>\n",
       "      <td>United States</td>\n",
       "      <td>NaN</td>\n",
       "      <td>NaN</td>\n",
       "      <td>NaN</td>\n",
       "      <td>NaN</td>\n",
       "      <td>...</td>\n",
       "      <td>Personal</td>\n",
       "      <td>NaN</td>\n",
       "      <td>4.0</td>\n",
       "      <td>0.0</td>\n",
       "      <td>0.0</td>\n",
       "      <td>0.0</td>\n",
       "      <td>UNK</td>\n",
       "      <td>Unknown</td>\n",
       "      <td>Probable Cause</td>\n",
       "      <td>19-09-1996</td>\n",
       "    </tr>\n",
       "    <tr>\n",
       "      <th>2</th>\n",
       "      <td>20061025X01555</td>\n",
       "      <td>Accident</td>\n",
       "      <td>NYC07LA005</td>\n",
       "      <td>1974-08-30</td>\n",
       "      <td>Saltville, VA</td>\n",
       "      <td>United States</td>\n",
       "      <td>36.922223</td>\n",
       "      <td>-81.878056</td>\n",
       "      <td>NaN</td>\n",
       "      <td>NaN</td>\n",
       "      <td>...</td>\n",
       "      <td>Personal</td>\n",
       "      <td>NaN</td>\n",
       "      <td>3.0</td>\n",
       "      <td>NaN</td>\n",
       "      <td>NaN</td>\n",
       "      <td>NaN</td>\n",
       "      <td>IMC</td>\n",
       "      <td>Cruise</td>\n",
       "      <td>Probable Cause</td>\n",
       "      <td>26-02-2007</td>\n",
       "    </tr>\n",
       "    <tr>\n",
       "      <th>3</th>\n",
       "      <td>20001218X45448</td>\n",
       "      <td>Accident</td>\n",
       "      <td>LAX96LA321</td>\n",
       "      <td>1977-06-19</td>\n",
       "      <td>EUREKA, CA</td>\n",
       "      <td>United States</td>\n",
       "      <td>NaN</td>\n",
       "      <td>NaN</td>\n",
       "      <td>NaN</td>\n",
       "      <td>NaN</td>\n",
       "      <td>...</td>\n",
       "      <td>Personal</td>\n",
       "      <td>NaN</td>\n",
       "      <td>2.0</td>\n",
       "      <td>0.0</td>\n",
       "      <td>0.0</td>\n",
       "      <td>0.0</td>\n",
       "      <td>IMC</td>\n",
       "      <td>Cruise</td>\n",
       "      <td>Probable Cause</td>\n",
       "      <td>12-09-2000</td>\n",
       "    </tr>\n",
       "    <tr>\n",
       "      <th>4</th>\n",
       "      <td>20041105X01764</td>\n",
       "      <td>Accident</td>\n",
       "      <td>CHI79FA064</td>\n",
       "      <td>1979-08-02</td>\n",
       "      <td>Canton, OH</td>\n",
       "      <td>United States</td>\n",
       "      <td>NaN</td>\n",
       "      <td>NaN</td>\n",
       "      <td>NaN</td>\n",
       "      <td>NaN</td>\n",
       "      <td>...</td>\n",
       "      <td>Personal</td>\n",
       "      <td>NaN</td>\n",
       "      <td>1.0</td>\n",
       "      <td>2.0</td>\n",
       "      <td>NaN</td>\n",
       "      <td>0.0</td>\n",
       "      <td>VMC</td>\n",
       "      <td>Approach</td>\n",
       "      <td>Probable Cause</td>\n",
       "      <td>16-04-1980</td>\n",
       "    </tr>\n",
       "  </tbody>\n",
       "</table>\n",
       "<p>5 rows × 31 columns</p>\n",
       "</div>"
      ],
      "text/plain": [
       "         Event.Id Investigation.Type Accident.Number  Event.Date  \\\n",
       "0  20001218X45444           Accident      SEA87LA080  1948-10-24   \n",
       "1  20001218X45447           Accident      LAX94LA336  1962-07-19   \n",
       "2  20061025X01555           Accident      NYC07LA005  1974-08-30   \n",
       "3  20001218X45448           Accident      LAX96LA321  1977-06-19   \n",
       "4  20041105X01764           Accident      CHI79FA064  1979-08-02   \n",
       "\n",
       "          Location        Country   Latitude   Longitude Airport.Code  \\\n",
       "0  MOOSE CREEK, ID  United States        NaN         NaN          NaN   \n",
       "1   BRIDGEPORT, CA  United States        NaN         NaN          NaN   \n",
       "2    Saltville, VA  United States  36.922223  -81.878056          NaN   \n",
       "3       EUREKA, CA  United States        NaN         NaN          NaN   \n",
       "4       Canton, OH  United States        NaN         NaN          NaN   \n",
       "\n",
       "  Airport.Name  ... Purpose.of.flight Air.carrier Total.Fatal.Injuries  \\\n",
       "0          NaN  ...          Personal         NaN                  2.0   \n",
       "1          NaN  ...          Personal         NaN                  4.0   \n",
       "2          NaN  ...          Personal         NaN                  3.0   \n",
       "3          NaN  ...          Personal         NaN                  2.0   \n",
       "4          NaN  ...          Personal         NaN                  1.0   \n",
       "\n",
       "  Total.Serious.Injuries Total.Minor.Injuries Total.Uninjured  \\\n",
       "0                    0.0                  0.0             0.0   \n",
       "1                    0.0                  0.0             0.0   \n",
       "2                    NaN                  NaN             NaN   \n",
       "3                    0.0                  0.0             0.0   \n",
       "4                    2.0                  NaN             0.0   \n",
       "\n",
       "  Weather.Condition  Broad.phase.of.flight   Report.Status Publication.Date  \n",
       "0               UNK                 Cruise  Probable Cause              NaN  \n",
       "1               UNK                Unknown  Probable Cause       19-09-1996  \n",
       "2               IMC                 Cruise  Probable Cause       26-02-2007  \n",
       "3               IMC                 Cruise  Probable Cause       12-09-2000  \n",
       "4               VMC               Approach  Probable Cause       16-04-1980  \n",
       "\n",
       "[5 rows x 31 columns]"
      ]
     },
     "execution_count": 89,
     "metadata": {},
     "output_type": "execute_result"
    }
   ],
   "source": [
    "#Display first 5 records\n",
    "df.head ()"
   ]
  },
  {
   "cell_type": "markdown",
   "id": "edc5f271-ac99-43b3-83bc-3ca57aa00f5b",
   "metadata": {},
   "source": [
    "In this analysis, I will begin by exploring the structure and size of the aviation dataset using df.columns and df.shape. This will provide an overview of the available variables and the total number of records. By identifying key columns such as aircraft details, accident locations, and injury counts, I will gain a better understanding of the data.\r\n",
    "Next, I will apply df.describe() to generate summary statistics, which will offer valuable insights into the numeric variables, including the number of fatalities, serious injuries, and uninjured individuals. \r\n"
   ]
  },
  {
   "cell_type": "code",
   "execution_count": 90,
   "id": "661652fb-d4a0-4479-a9b5-30035f8ec5a9",
   "metadata": {},
   "outputs": [
    {
     "data": {
      "text/plain": [
       "(88889, 31)"
      ]
     },
     "execution_count": 90,
     "metadata": {},
     "output_type": "execute_result"
    }
   ],
   "source": [
    "# Return the dimensions of the DataFrame\n",
    "df.shape\n"
   ]
  },
  {
   "cell_type": "code",
   "execution_count": 91,
   "id": "690afaf7-5d77-4443-bd89-743b7d890acf",
   "metadata": {},
   "outputs": [
    {
     "data": {
      "text/plain": [
       "Index(['Event.Id', 'Investigation.Type', 'Accident.Number', 'Event.Date',\n",
       "       'Location', 'Country', 'Latitude', 'Longitude', 'Airport.Code',\n",
       "       'Airport.Name', 'Injury.Severity', 'Aircraft.damage',\n",
       "       'Aircraft.Category', 'Registration.Number', 'Make', 'Model',\n",
       "       'Amateur.Built', 'Number.of.Engines', 'Engine.Type', 'FAR.Description',\n",
       "       'Schedule', 'Purpose.of.flight', 'Air.carrier', 'Total.Fatal.Injuries',\n",
       "       'Total.Serious.Injuries', 'Total.Minor.Injuries', 'Total.Uninjured',\n",
       "       'Weather.Condition', 'Broad.phase.of.flight', 'Report.Status',\n",
       "       'Publication.Date'],\n",
       "      dtype='object')"
      ]
     },
     "execution_count": 91,
     "metadata": {},
     "output_type": "execute_result"
    }
   ],
   "source": [
    "#Return the columns in the DataFrame\n",
    "df.columns\n"
   ]
  },
  {
   "cell_type": "code",
   "execution_count": 92,
   "id": "be93434f-4f76-4e7b-b1c2-11120c658725",
   "metadata": {},
   "outputs": [
    {
     "data": {
      "text/plain": [
       "<bound method NDFrame.describe of              Event.Id Investigation.Type Accident.Number  Event.Date  \\\n",
       "0      20001218X45444           Accident      SEA87LA080  1948-10-24   \n",
       "1      20001218X45447           Accident      LAX94LA336  1962-07-19   \n",
       "2      20061025X01555           Accident      NYC07LA005  1974-08-30   \n",
       "3      20001218X45448           Accident      LAX96LA321  1977-06-19   \n",
       "4      20041105X01764           Accident      CHI79FA064  1979-08-02   \n",
       "...               ...                ...             ...         ...   \n",
       "88884  20221227106491           Accident      ERA23LA093  2022-12-26   \n",
       "88885  20221227106494           Accident      ERA23LA095  2022-12-26   \n",
       "88886  20221227106497           Accident      WPR23LA075  2022-12-26   \n",
       "88887  20221227106498           Accident      WPR23LA076  2022-12-26   \n",
       "88888  20221230106513           Accident      ERA23LA097  2022-12-29   \n",
       "\n",
       "              Location        Country   Latitude   Longitude Airport.Code  \\\n",
       "0      MOOSE CREEK, ID  United States        NaN         NaN          NaN   \n",
       "1       BRIDGEPORT, CA  United States        NaN         NaN          NaN   \n",
       "2        Saltville, VA  United States  36.922223  -81.878056          NaN   \n",
       "3           EUREKA, CA  United States        NaN         NaN          NaN   \n",
       "4           Canton, OH  United States        NaN         NaN          NaN   \n",
       "...                ...            ...        ...         ...          ...   \n",
       "88884    Annapolis, MD  United States        NaN         NaN          NaN   \n",
       "88885      Hampton, NH  United States        NaN         NaN          NaN   \n",
       "88886       Payson, AZ  United States    341525N    1112021W          PAN   \n",
       "88887       Morgan, UT  United States        NaN         NaN          NaN   \n",
       "88888       Athens, GA  United States        NaN         NaN          NaN   \n",
       "\n",
       "      Airport.Name  ... Purpose.of.flight         Air.carrier  \\\n",
       "0              NaN  ...          Personal                 NaN   \n",
       "1              NaN  ...          Personal                 NaN   \n",
       "2              NaN  ...          Personal                 NaN   \n",
       "3              NaN  ...          Personal                 NaN   \n",
       "4              NaN  ...          Personal                 NaN   \n",
       "...            ...  ...               ...                 ...   \n",
       "88884          NaN  ...          Personal                 NaN   \n",
       "88885          NaN  ...               NaN                 NaN   \n",
       "88886       PAYSON  ...          Personal                 NaN   \n",
       "88887          NaN  ...          Personal  MC CESSNA 210N LLC   \n",
       "88888          NaN  ...          Personal                 NaN   \n",
       "\n",
       "      Total.Fatal.Injuries Total.Serious.Injuries Total.Minor.Injuries  \\\n",
       "0                      2.0                    0.0                  0.0   \n",
       "1                      4.0                    0.0                  0.0   \n",
       "2                      3.0                    NaN                  NaN   \n",
       "3                      2.0                    0.0                  0.0   \n",
       "4                      1.0                    2.0                  NaN   \n",
       "...                    ...                    ...                  ...   \n",
       "88884                  0.0                    1.0                  0.0   \n",
       "88885                  0.0                    0.0                  0.0   \n",
       "88886                  0.0                    0.0                  0.0   \n",
       "88887                  0.0                    0.0                  0.0   \n",
       "88888                  0.0                    1.0                  0.0   \n",
       "\n",
       "      Total.Uninjured Weather.Condition  Broad.phase.of.flight  \\\n",
       "0                 0.0               UNK                 Cruise   \n",
       "1                 0.0               UNK                Unknown   \n",
       "2                 NaN               IMC                 Cruise   \n",
       "3                 0.0               IMC                 Cruise   \n",
       "4                 0.0               VMC               Approach   \n",
       "...               ...               ...                    ...   \n",
       "88884             0.0               NaN                    NaN   \n",
       "88885             0.0               NaN                    NaN   \n",
       "88886             1.0               VMC                    NaN   \n",
       "88887             0.0               NaN                    NaN   \n",
       "88888             1.0               NaN                    NaN   \n",
       "\n",
       "        Report.Status Publication.Date  \n",
       "0      Probable Cause              NaN  \n",
       "1      Probable Cause       19-09-1996  \n",
       "2      Probable Cause       26-02-2007  \n",
       "3      Probable Cause       12-09-2000  \n",
       "4      Probable Cause       16-04-1980  \n",
       "...               ...              ...  \n",
       "88884             NaN       29-12-2022  \n",
       "88885             NaN              NaN  \n",
       "88886             NaN       27-12-2022  \n",
       "88887             NaN              NaN  \n",
       "88888             NaN       30-12-2022  \n",
       "\n",
       "[88889 rows x 31 columns]>"
      ]
     },
     "execution_count": 92,
     "metadata": {},
     "output_type": "execute_result"
    }
   ],
   "source": [
    "# Summary statistics for the numeric columns in a DataFrame\n",
    "df.describe\n"
   ]
  },
  {
   "cell_type": "code",
   "execution_count": 93,
   "id": "dfe715e7-0fcb-4fa7-b8da-53911fae423d",
   "metadata": {},
   "outputs": [
    {
     "data": {
      "text/plain": [
       "Event.Id                      0\n",
       "Investigation.Type            0\n",
       "Accident.Number               0\n",
       "Event.Date                    0\n",
       "Location                     52\n",
       "Country                     226\n",
       "Latitude                  54507\n",
       "Longitude                 54516\n",
       "Airport.Code              38757\n",
       "Airport.Name              36185\n",
       "Injury.Severity            1000\n",
       "Aircraft.damage            3194\n",
       "Aircraft.Category         56602\n",
       "Registration.Number        1382\n",
       "Make                         63\n",
       "Model                        92\n",
       "Amateur.Built               102\n",
       "Number.of.Engines          6084\n",
       "Engine.Type                7096\n",
       "FAR.Description           56866\n",
       "Schedule                  76307\n",
       "Purpose.of.flight          6192\n",
       "Air.carrier               72241\n",
       "Total.Fatal.Injuries      11401\n",
       "Total.Serious.Injuries    12510\n",
       "Total.Minor.Injuries      11933\n",
       "Total.Uninjured            5912\n",
       "Weather.Condition          4492\n",
       "Broad.phase.of.flight     27165\n",
       "Report.Status              6384\n",
       "Publication.Date          13771\n",
       "dtype: int64"
      ]
     },
     "execution_count": 93,
     "metadata": {},
     "output_type": "execute_result"
    }
   ],
   "source": [
    "df.isnull().sum()\n"
   ]
  },
  {
   "cell_type": "markdown",
   "id": "9dd28116-d265-4baf-a021-ee904f9b2e89",
   "metadata": {},
   "source": [
    "### Data Cleaning"
   ]
  },
  {
   "cell_type": "markdown",
   "id": "cb5a7102-605f-44f1-8c6c-6b36a9e8dad0",
   "metadata": {},
   "source": [
    "The goal of data cleaning is to prepare the dataset for analysis by addressing missing values, which can skew results and lead to inaccurate conclusions. Filling missing values appropriately ensures the integrity of the data."
   ]
  },
  {
   "cell_type": "code",
   "execution_count": 94,
   "id": "dbd161ab-197c-4d48-b4fc-10ee2306ea62",
   "metadata": {},
   "outputs": [
    {
     "name": "stdout",
     "output_type": "stream",
     "text": [
      "Event.Id                   0.000000\n",
      "Investigation.Type         0.000000\n",
      "Accident.Number            0.000000\n",
      "Event.Date                 0.000000\n",
      "Location                   0.058500\n",
      "Country                    0.254250\n",
      "Latitude                  61.320298\n",
      "Longitude                 61.330423\n",
      "Airport.Code              43.601570\n",
      "Airport.Name              40.708074\n",
      "Injury.Severity            1.124999\n",
      "Aircraft.damage            3.593246\n",
      "Aircraft.Category         63.677170\n",
      "Registration.Number        1.554748\n",
      "Make                       0.070875\n",
      "Model                      0.103500\n",
      "Amateur.Built              0.114750\n",
      "Number.of.Engines          6.844491\n",
      "Engine.Type                7.982990\n",
      "FAR.Description           63.974170\n",
      "Schedule                  85.845268\n",
      "Purpose.of.flight          6.965991\n",
      "Air.carrier               81.271023\n",
      "Total.Fatal.Injuries      12.826109\n",
      "Total.Serious.Injuries    14.073732\n",
      "Total.Minor.Injuries      13.424608\n",
      "Total.Uninjured            6.650992\n",
      "Weather.Condition          5.053494\n",
      "Broad.phase.of.flight     30.560587\n",
      "Report.Status              7.181991\n",
      "Publication.Date          15.492356\n",
      "dtype: float64\n"
     ]
    }
   ],
   "source": [
    "null = (df.isnull().sum() / len(df)) * 100\n",
    "print(null)"
   ]
  },
  {
   "cell_type": "code",
   "execution_count": 95,
   "id": "3f3f6beb-b0f3-4582-a9ce-c4de9f3632b7",
   "metadata": {},
   "outputs": [],
   "source": [
    "# Identify columns with more than 25% missing data\n",
    "percentage_missing = 0.25\n",
    "dropped_columns = df.columns[df.isnull().mean() > percentage_missing]"
   ]
  },
  {
   "cell_type": "code",
   "execution_count": 96,
   "id": "a19eb9e4-37ae-4ce9-bebf-80d088d366c1",
   "metadata": {},
   "outputs": [
    {
     "data": {
      "text/plain": [
       "Index(['Latitude', 'Longitude', 'Airport.Code', 'Airport.Name',\n",
       "       'Aircraft.Category', 'FAR.Description', 'Schedule', 'Air.carrier',\n",
       "       'Broad.phase.of.flight'],\n",
       "      dtype='object')"
      ]
     },
     "execution_count": 96,
     "metadata": {},
     "output_type": "execute_result"
    }
   ],
   "source": [
    "dropped_columns"
   ]
  },
  {
   "cell_type": "code",
   "execution_count": 97,
   "id": "e7e0d18f-3b3f-4e28-a330-e52cdfd73f67",
   "metadata": {},
   "outputs": [],
   "source": [
    "df = df.drop(columns=dropped_columns)\n"
   ]
  },
  {
   "cell_type": "code",
   "execution_count": 98,
   "id": "d976c259-979d-44ae-8355-a512bc04ef35",
   "metadata": {},
   "outputs": [
    {
     "data": {
      "text/plain": [
       "<bound method DataFrame.info of              Event.Id Investigation.Type Accident.Number  Event.Date  \\\n",
       "0      20001218X45444           Accident      SEA87LA080  1948-10-24   \n",
       "1      20001218X45447           Accident      LAX94LA336  1962-07-19   \n",
       "2      20061025X01555           Accident      NYC07LA005  1974-08-30   \n",
       "3      20001218X45448           Accident      LAX96LA321  1977-06-19   \n",
       "4      20041105X01764           Accident      CHI79FA064  1979-08-02   \n",
       "...               ...                ...             ...         ...   \n",
       "88884  20221227106491           Accident      ERA23LA093  2022-12-26   \n",
       "88885  20221227106494           Accident      ERA23LA095  2022-12-26   \n",
       "88886  20221227106497           Accident      WPR23LA075  2022-12-26   \n",
       "88887  20221227106498           Accident      WPR23LA076  2022-12-26   \n",
       "88888  20221230106513           Accident      ERA23LA097  2022-12-29   \n",
       "\n",
       "              Location        Country Injury.Severity Aircraft.damage  \\\n",
       "0      MOOSE CREEK, ID  United States        Fatal(2)       Destroyed   \n",
       "1       BRIDGEPORT, CA  United States        Fatal(4)       Destroyed   \n",
       "2        Saltville, VA  United States        Fatal(3)       Destroyed   \n",
       "3           EUREKA, CA  United States        Fatal(2)       Destroyed   \n",
       "4           Canton, OH  United States        Fatal(1)       Destroyed   \n",
       "...                ...            ...             ...             ...   \n",
       "88884    Annapolis, MD  United States           Minor             NaN   \n",
       "88885      Hampton, NH  United States             NaN             NaN   \n",
       "88886       Payson, AZ  United States       Non-Fatal     Substantial   \n",
       "88887       Morgan, UT  United States             NaN             NaN   \n",
       "88888       Athens, GA  United States           Minor             NaN   \n",
       "\n",
       "      Registration.Number                        Make  ... Number.of.Engines  \\\n",
       "0                  NC6404                     Stinson  ...               1.0   \n",
       "1                  N5069P                       Piper  ...               1.0   \n",
       "2                  N5142R                      Cessna  ...               1.0   \n",
       "3                  N1168J                    Rockwell  ...               1.0   \n",
       "4                   N15NY                      Cessna  ...               NaN   \n",
       "...                   ...                         ...  ...               ...   \n",
       "88884              N1867H                       PIPER  ...               NaN   \n",
       "88885              N2895Z                    BELLANCA  ...               NaN   \n",
       "88886              N749PJ  AMERICAN CHAMPION AIRCRAFT  ...               1.0   \n",
       "88887              N210CU                      CESSNA  ...               NaN   \n",
       "88888              N9026P                       PIPER  ...               NaN   \n",
       "\n",
       "         Engine.Type  Purpose.of.flight Total.Fatal.Injuries  \\\n",
       "0      Reciprocating           Personal                  2.0   \n",
       "1      Reciprocating           Personal                  4.0   \n",
       "2      Reciprocating           Personal                  3.0   \n",
       "3      Reciprocating           Personal                  2.0   \n",
       "4                NaN           Personal                  1.0   \n",
       "...              ...                ...                  ...   \n",
       "88884            NaN           Personal                  0.0   \n",
       "88885            NaN                NaN                  0.0   \n",
       "88886            NaN           Personal                  0.0   \n",
       "88887            NaN           Personal                  0.0   \n",
       "88888            NaN           Personal                  0.0   \n",
       "\n",
       "      Total.Serious.Injuries  Total.Minor.Injuries  Total.Uninjured  \\\n",
       "0                        0.0                   0.0              0.0   \n",
       "1                        0.0                   0.0              0.0   \n",
       "2                        NaN                   NaN              NaN   \n",
       "3                        0.0                   0.0              0.0   \n",
       "4                        2.0                   NaN              0.0   \n",
       "...                      ...                   ...              ...   \n",
       "88884                    1.0                   0.0              0.0   \n",
       "88885                    0.0                   0.0              0.0   \n",
       "88886                    0.0                   0.0              1.0   \n",
       "88887                    0.0                   0.0              0.0   \n",
       "88888                    1.0                   0.0              1.0   \n",
       "\n",
       "       Weather.Condition   Report.Status Publication.Date  \n",
       "0                    UNK  Probable Cause              NaN  \n",
       "1                    UNK  Probable Cause       19-09-1996  \n",
       "2                    IMC  Probable Cause       26-02-2007  \n",
       "3                    IMC  Probable Cause       12-09-2000  \n",
       "4                    VMC  Probable Cause       16-04-1980  \n",
       "...                  ...             ...              ...  \n",
       "88884                NaN             NaN       29-12-2022  \n",
       "88885                NaN             NaN              NaN  \n",
       "88886                VMC             NaN       27-12-2022  \n",
       "88887                NaN             NaN              NaN  \n",
       "88888                NaN             NaN       30-12-2022  \n",
       "\n",
       "[88889 rows x 22 columns]>"
      ]
     },
     "execution_count": 98,
     "metadata": {},
     "output_type": "execute_result"
    }
   ],
   "source": [
    "df.info"
   ]
  },
  {
   "cell_type": "code",
   "execution_count": 99,
   "id": "cb5ac11e-2a94-42e7-826e-9b72a55952d0",
   "metadata": {},
   "outputs": [
    {
     "name": "stdout",
     "output_type": "stream",
     "text": [
      "Numerical columns: Index(['Number.of.Engines', 'Total.Fatal.Injuries', 'Total.Serious.Injuries',\n",
      "       'Total.Minor.Injuries', 'Total.Uninjured'],\n",
      "      dtype='object')\n"
     ]
    }
   ],
   "source": [
    "# Select columns with numerical data types\n",
    "numerical_columns = df.select_dtypes(include=['int64', 'float64']).columns\n",
    "\n",
    "# Print the numerical columns\n",
    "print(\"Numerical columns:\", numerical_columns)"
   ]
  },
  {
   "cell_type": "code",
   "execution_count": 100,
   "id": "3064e077-04da-41c2-bb9f-b703eb93e031",
   "metadata": {},
   "outputs": [],
   "source": [
    "# Fill missing values in each numerical column with the median of that column\n",
    "df[numerical_columns] = df[numerical_columns].apply(lambda x: x.fillna(x.median()))\n"
   ]
  },
  {
   "cell_type": "code",
   "execution_count": 101,
   "id": "3ff6f21d-6d49-4647-89bf-1838c8aed742",
   "metadata": {},
   "outputs": [],
   "source": [
    "#Fill categorical data with mode\n",
    "# Select categorical columns\n",
    "categorical_columns = df.select_dtypes(include=['object']).columns\n",
    "\n",
    "# Fill missing values in each categorical column with the mode of that column\n",
    "df[categorical_columns] = df[categorical_columns].apply(lambda x: x.fillna(x.mode()[0]))\n"
   ]
  },
  {
   "cell_type": "code",
   "execution_count": 102,
   "id": "8bfd20fb-22ae-4232-bd44-0a5e668f32e0",
   "metadata": {},
   "outputs": [
    {
     "name": "stdout",
     "output_type": "stream",
     "text": [
      "Index(['Event.Id', 'Investigation.Type', 'Accident.Number', 'Event.Date',\n",
      "       'Location', 'Country', 'Injury.Severity', 'Aircraft.damage',\n",
      "       'Registration.Number', 'Make', 'Model', 'Amateur.Built', 'Engine.Type',\n",
      "       'Purpose.of.flight', 'Weather.Condition', 'Report.Status',\n",
      "       'Publication.Date'],\n",
      "      dtype='object')\n"
     ]
    }
   ],
   "source": [
    "print (categorical_columns)"
   ]
  },
  {
   "cell_type": "code",
   "execution_count": 103,
   "id": "aa97418e-53c4-4e82-ba15-ab2b896e2955",
   "metadata": {},
   "outputs": [
    {
     "data": {
      "text/plain": [
       "0"
      ]
     },
     "execution_count": 103,
     "metadata": {},
     "output_type": "execute_result"
    }
   ],
   "source": [
    "df.isnull().values.sum()"
   ]
  },
  {
   "cell_type": "code",
   "execution_count": 104,
   "id": "a14d387e-8a5d-48f5-99be-4732aa821ce0",
   "metadata": {},
   "outputs": [
    {
     "name": "stdout",
     "output_type": "stream",
     "text": [
      "<class 'pandas.core.frame.DataFrame'>\n",
      "RangeIndex: 88889 entries, 0 to 88888\n",
      "Data columns (total 22 columns):\n",
      " #   Column                  Non-Null Count  Dtype  \n",
      "---  ------                  --------------  -----  \n",
      " 0   Event.Id                88889 non-null  object \n",
      " 1   Investigation.Type      88889 non-null  object \n",
      " 2   Accident.Number         88889 non-null  object \n",
      " 3   Event.Date              88889 non-null  object \n",
      " 4   Location                88889 non-null  object \n",
      " 5   Country                 88889 non-null  object \n",
      " 6   Injury.Severity         88889 non-null  object \n",
      " 7   Aircraft.damage         88889 non-null  object \n",
      " 8   Registration.Number     88889 non-null  object \n",
      " 9   Make                    88889 non-null  object \n",
      " 10  Model                   88889 non-null  object \n",
      " 11  Amateur.Built           88889 non-null  object \n",
      " 12  Number.of.Engines       88889 non-null  float64\n",
      " 13  Engine.Type             88889 non-null  object \n",
      " 14  Purpose.of.flight       88889 non-null  object \n",
      " 15  Total.Fatal.Injuries    88889 non-null  float64\n",
      " 16  Total.Serious.Injuries  88889 non-null  float64\n",
      " 17  Total.Minor.Injuries    88889 non-null  float64\n",
      " 18  Total.Uninjured         88889 non-null  float64\n",
      " 19  Weather.Condition       88889 non-null  object \n",
      " 20  Report.Status           88889 non-null  object \n",
      " 21  Publication.Date        88889 non-null  object \n",
      "dtypes: float64(5), object(17)\n",
      "memory usage: 14.9+ MB\n",
      "None\n"
     ]
    }
   ],
   "source": [
    "print(df.info())"
   ]
  },
  {
   "cell_type": "markdown",
   "id": "924ce825-fb48-4490-b7b9-66a6d8b46848",
   "metadata": {},
   "source": [
    "### Exploratory Data Analysis\n",
    "Now that the dataset is cleaned, we want to perform some exploratory analysis to understand distributions, correlations, and potential patterns."
   ]
  },
  {
   "cell_type": "code",
   "execution_count": 105,
   "id": "b764ae04-aa2e-4c62-b609-11adc92da0aa",
   "metadata": {},
   "outputs": [
    {
     "name": "stdout",
     "output_type": "stream",
     "text": [
      "Numeric columns in the dataset:\n",
      "Index(['Number.of.Engines', 'Total.Fatal.Injuries', 'Total.Serious.Injuries',\n",
      "       'Total.Minor.Injuries', 'Total.Uninjured'],\n",
      "      dtype='object')\n"
     ]
    }
   ],
   "source": [
    "# Select numeric columns (int64, float64)\n",
    "numeric_columns = df.select_dtypes(include=['int64', 'float64']).columns\n",
    "print(\"Numeric columns in the dataset:\")\n",
    "print(numeric_columns)\n"
   ]
  },
  {
   "cell_type": "code",
   "execution_count": 106,
   "id": "da098025-51d2-40ef-9d44-539a64324c6d",
   "metadata": {},
   "outputs": [
    {
     "data": {
      "text/html": [
       "<div>\n",
       "<style scoped>\n",
       "    .dataframe tbody tr th:only-of-type {\n",
       "        vertical-align: middle;\n",
       "    }\n",
       "\n",
       "    .dataframe tbody tr th {\n",
       "        vertical-align: top;\n",
       "    }\n",
       "\n",
       "    .dataframe thead th {\n",
       "        text-align: right;\n",
       "    }\n",
       "</style>\n",
       "<table border=\"1\" class=\"dataframe\">\n",
       "  <thead>\n",
       "    <tr style=\"text-align: right;\">\n",
       "      <th></th>\n",
       "      <th>Number.of.Engines</th>\n",
       "      <th>Total.Fatal.Injuries</th>\n",
       "      <th>Total.Serious.Injuries</th>\n",
       "      <th>Total.Minor.Injuries</th>\n",
       "      <th>Total.Uninjured</th>\n",
       "    </tr>\n",
       "  </thead>\n",
       "  <tbody>\n",
       "    <tr>\n",
       "      <th>count</th>\n",
       "      <td>88889.000000</td>\n",
       "      <td>88889.000000</td>\n",
       "      <td>88889.000000</td>\n",
       "      <td>88889.000000</td>\n",
       "      <td>88889.000000</td>\n",
       "    </tr>\n",
       "    <tr>\n",
       "      <th>mean</th>\n",
       "      <td>1.136552</td>\n",
       "      <td>0.564761</td>\n",
       "      <td>0.240491</td>\n",
       "      <td>0.309127</td>\n",
       "      <td>5.037755</td>\n",
       "    </tr>\n",
       "    <tr>\n",
       "      <th>std</th>\n",
       "      <td>0.432545</td>\n",
       "      <td>5.126649</td>\n",
       "      <td>1.434614</td>\n",
       "      <td>2.083715</td>\n",
       "      <td>26.990914</td>\n",
       "    </tr>\n",
       "    <tr>\n",
       "      <th>min</th>\n",
       "      <td>0.000000</td>\n",
       "      <td>0.000000</td>\n",
       "      <td>0.000000</td>\n",
       "      <td>0.000000</td>\n",
       "      <td>0.000000</td>\n",
       "    </tr>\n",
       "    <tr>\n",
       "      <th>25%</th>\n",
       "      <td>1.000000</td>\n",
       "      <td>0.000000</td>\n",
       "      <td>0.000000</td>\n",
       "      <td>0.000000</td>\n",
       "      <td>0.000000</td>\n",
       "    </tr>\n",
       "    <tr>\n",
       "      <th>50%</th>\n",
       "      <td>1.000000</td>\n",
       "      <td>0.000000</td>\n",
       "      <td>0.000000</td>\n",
       "      <td>0.000000</td>\n",
       "      <td>1.000000</td>\n",
       "    </tr>\n",
       "    <tr>\n",
       "      <th>75%</th>\n",
       "      <td>1.000000</td>\n",
       "      <td>0.000000</td>\n",
       "      <td>0.000000</td>\n",
       "      <td>0.000000</td>\n",
       "      <td>2.000000</td>\n",
       "    </tr>\n",
       "    <tr>\n",
       "      <th>max</th>\n",
       "      <td>8.000000</td>\n",
       "      <td>349.000000</td>\n",
       "      <td>161.000000</td>\n",
       "      <td>380.000000</td>\n",
       "      <td>699.000000</td>\n",
       "    </tr>\n",
       "  </tbody>\n",
       "</table>\n",
       "</div>"
      ],
      "text/plain": [
       "       Number.of.Engines  Total.Fatal.Injuries  Total.Serious.Injuries  \\\n",
       "count       88889.000000          88889.000000            88889.000000   \n",
       "mean            1.136552              0.564761                0.240491   \n",
       "std             0.432545              5.126649                1.434614   \n",
       "min             0.000000              0.000000                0.000000   \n",
       "25%             1.000000              0.000000                0.000000   \n",
       "50%             1.000000              0.000000                0.000000   \n",
       "75%             1.000000              0.000000                0.000000   \n",
       "max             8.000000            349.000000              161.000000   \n",
       "\n",
       "       Total.Minor.Injuries  Total.Uninjured  \n",
       "count          88889.000000     88889.000000  \n",
       "mean               0.309127         5.037755  \n",
       "std                2.083715        26.990914  \n",
       "min                0.000000         0.000000  \n",
       "25%                0.000000         0.000000  \n",
       "50%                0.000000         1.000000  \n",
       "75%                0.000000         2.000000  \n",
       "max              380.000000       699.000000  "
      ]
     },
     "execution_count": 106,
     "metadata": {},
     "output_type": "execute_result"
    }
   ],
   "source": [
    "df[['Number.of.Engines', 'Total.Fatal.Injuries', 'Total.Serious.Injuries',\n",
    "       'Total.Minor.Injuries', 'Total.Uninjured']].describe()"
   ]
  },
  {
   "cell_type": "markdown",
   "id": "c595d9f8-9262-4748-8235-c036c184ec9b",
   "metadata": {},
   "source": [
    "### Observations\n",
    "Looking at the Number of Engines: The majority of aircraft in this dataset are single-engine planes, with a few having multiple engines, up to 8.\n",
    "Most aviation incidents result in no fatalities, but there are rare catastrophic events with large fatality numbers.\n",
    "Similar to fatalities, serious injuries are rare in most incidents, but there are occasional incidents with many serious injuries.\n",
    "Most aviation incidents do not result in minor injuries, but a few incidents involve large numbers of minor injuries.\n",
    "While many incidents have a few or no uninjured people, some incidents involve many uninjured individuals, possibly from large commercial flights where many passengers escape without injury.\n",
    "\n",
    "### Overall Insights:\n",
    "1. Most incidents in this dataset involve small planes with a single engine and no injuries or fatalities.\n",
    "2. Severe outcomes (fatalities, serious injuries) are rare but when they occur, they can be catastrophic, leading to significant losses of life.\n",
    "3. The variability in injuries and fatalities is significant, with a few incidents involving very large numbers of injured or uninjured individuals, likely driven by large commercial aircraft accidents.\n",
    "4. The max values for fatalities, serious injuries, and uninjured passengers indicate the presence of outlier events, possibly large-scale disasters or accidents.\n",
    "This suggests that the aviation data captures both small-scale incidents with minimal impact and larger, rarer accidents with many casualties."
   ]
  },
  {
   "cell_type": "code",
   "execution_count": 107,
   "id": "4be139d0-6063-4d7d-b9f6-03aad100a9a3",
   "metadata": {},
   "outputs": [
    {
     "name": "stdout",
     "output_type": "stream",
     "text": [
      "                        Number.of.Engines  Total.Fatal.Injuries  \\\n",
      "Number.of.Engines                0.187095              0.112624   \n",
      "Total.Fatal.Injuries             0.112624             26.282529   \n",
      "Total.Serious.Injuries           0.017516              0.794799   \n",
      "Total.Minor.Injuries             0.047125              0.381340   \n",
      "Total.Uninjured                  4.024421             -2.076775   \n",
      "\n",
      "                        Total.Serious.Injuries  Total.Minor.Injuries  \\\n",
      "Number.of.Engines                     0.017516              0.047125   \n",
      "Total.Fatal.Injuries                  0.794799              0.381340   \n",
      "Total.Serious.Injuries                2.058118              0.646890   \n",
      "Total.Minor.Injuries                  0.646890              4.341866   \n",
      "Total.Uninjured                       1.630793              5.530753   \n",
      "\n",
      "                        Total.Uninjured  \n",
      "Number.of.Engines              4.024421  \n",
      "Total.Fatal.Injuries          -2.076775  \n",
      "Total.Serious.Injuries         1.630793  \n",
      "Total.Minor.Injuries           5.530753  \n",
      "Total.Uninjured              728.509420  \n"
     ]
    }
   ],
   "source": [
    "covariance_matrix = df[['Number.of.Engines', 'Total.Fatal.Injuries', 'Total.Serious.Injuries',\n",
    "       'Total.Minor.Injuries', 'Total.Uninjured']].cov()\n",
    "print(covariance_matrix)\n"
   ]
  },
  {
   "cell_type": "markdown",
   "id": "58a95410-3e85-473b-a81b-87cf2461e051",
   "metadata": {},
   "source": [
    "### Key Observations:\n",
    "\n",
    "1. Covariance Between Number of Engines and Other Variables:\n",
    "   - Number of Engines & Total Fatal Injuries: The covariance is 0.1126, which is a weak positive relationship, indicating that as the number of engines increases, there is a slight increase in fatal injuries.\n",
    "   - Number of Engines & Total Serious Injuries: The covariance is 0.0175, nearly zero, suggesting no significant relationship between the number of engines and serious injuries.\n",
    "   - Number of Engines & Total Uninjured: The covariance is 4.0244, suggesting a moderate positive relationship between the number of engines and uninjured passengers, meaning more engines might be associated with more uninjured cases.\n",
    "\n",
    "2. Covariance Between Fatal Injuries and Other Injury Types:\n",
    "- Fatal Injuries & Serious Injuries: Covariance is 0.7948—a positive relationship, indicating that more fatal injuries are often associated with an increase in serious injuries.\n",
    "- Fatal Injuries & Minor Injuries: Covariance is 0.3813—a weaker positive relationship, suggesting that more fatal injuries are also linked with an increase in minor injuries.\n",
    "- Fatal Injuries & Uninjured: Covariance is -2.0768—a negative relationship, meaning that as fatal injuries increase, the number of uninjured passengers tends to decrease, which aligns with expectations in more severe accidents.\n",
    "\n",
    "3. Covariance Among Injury Types:\n",
    "- Serious Injuries & Minor Injuries: Covariance is 0.6469—a positive relationship, meaning that accidents with more serious injuries tend to also have more minor injuries.\n",
    "- Serious Injuries & Uninjured: Covariance is 1.6308—a positive relationship, suggesting that accidents with serious injuries might also have more uninjured individuals, possibly in cases where only a few are severely injured while others are unharmed.\n",
    "- Minor Injuries & Uninjured: Covariance is 5.5308—a strong positive relationship, indicating that in less severe accidents, there are often both minor injuries and many uninjured individuals.\n",
    "  \n",
    "4. Variance of Total Uninjured:\n",
    "- The variance for Total Uninjured is 728.5094, which is much higher than for other variables, indicating a wide range in the number of uninjured individuals across incidents.\n",
    "- This large variance suggests that some accidents result in many uninjured individuals, while others have very few or none, highlighting the diverse severity of accidents in the dataset.\n"
   ]
  },
  {
   "cell_type": "code",
   "execution_count": 108,
   "id": "e558ec08-46a9-4bfc-a062-7c01c75bf412",
   "metadata": {},
   "outputs": [
    {
     "name": "stdout",
     "output_type": "stream",
     "text": [
      "                        Number.of.Engines  Total.Fatal.Injuries  \\\n",
      "Number.of.Engines                1.000000              0.050789   \n",
      "Total.Fatal.Injuries             0.050789              1.000000   \n",
      "Total.Serious.Injuries           0.028226              0.108066   \n",
      "Total.Minor.Injuries             0.052285              0.035698   \n",
      "Total.Uninjured                  0.344710             -0.015009   \n",
      "\n",
      "                        Total.Serious.Injuries  Total.Minor.Injuries  \\\n",
      "Number.of.Engines                     0.028226              0.052285   \n",
      "Total.Fatal.Injuries                  0.108066              0.035698   \n",
      "Total.Serious.Injuries                1.000000              0.216400   \n",
      "Total.Minor.Injuries                  0.216400              1.000000   \n",
      "Total.Uninjured                       0.042116              0.098340   \n",
      "\n",
      "                        Total.Uninjured  \n",
      "Number.of.Engines              0.344710  \n",
      "Total.Fatal.Injuries          -0.015009  \n",
      "Total.Serious.Injuries         0.042116  \n",
      "Total.Minor.Injuries           0.098340  \n",
      "Total.Uninjured                1.000000  \n"
     ]
    }
   ],
   "source": [
    "correlation_matrix = df[['Number.of.Engines', 'Total.Fatal.Injuries', 'Total.Serious.Injuries',\n",
    "       'Total.Minor.Injuries', 'Total.Uninjured']].corr()\n",
    "print(correlation_matrix)\n"
   ]
  },
  {
   "cell_type": "markdown",
   "id": "2bb2f3a7-04e2-45e5-9be9-5d78ff6aceb5",
   "metadata": {},
   "source": [
    "### Key Observations\n",
    "\n",
    "1. Number of Engines:\n",
    "   - Correlation with Total Fatal Injuries: 0.0508—very weak positive correlation, indicating minimal relationship between the number of engines and fatal injuries.\n",
    "   - Correlation with Total Serious Injuries: 0.0282—almost zero, suggesting no significant relationship.\n",
    "   - Correlation with Total Minor Injuries: 0.0523—also very weak, showing no meaningful correlation.\n",
    "   - Correlation with Total Uninjured: 0.3447—a moderate positive correlation, suggesting that as the number of engines increases, there may be a tendency for more uninjured individuals.\n",
    "\n",
    "2. Total Fatal Injuries:\n",
    "   - Correlation with Total Serious Injuries: 0.1081—a weak positive correlation, indicating a slight tendency for fatal injuries to be associated with serious injuries.\n",
    "   - Correlation with Total Minor Injuries: 0.0357—very weak, indicating minimal relationship.\n",
    "   - Correlation with Total Uninjured: -0.0150—essentially no correlation, suggesting that the number of fatalities does not significantly affect the number of uninjured individuals.\n",
    "\n",
    "3. Total Serious Injuries:\n",
    "   - Correlation with Total Minor Injuries: 0.2164—a moderate positive correlation, indicating that more serious injuries are associated with more minor injuries.\n",
    "   - Correlation with Total Uninjured: 0.0421—very weak, indicating little relationship with uninjured individuals.\n",
    "\n",
    "4. Total Minor Injuries:\n",
    "   - Correlation with Total Uninjured: 0.0983—a weak positive correlation, suggesting a slight tendency for more minor injuries to occur alongside more uninjured individuals.\n"
   ]
  },
  {
   "cell_type": "code",
   "execution_count": null,
   "id": "c1a9095f-d803-4a9c-8e6d-a9a522b19f9d",
   "metadata": {},
   "outputs": [],
   "source": [
    "\n"
   ]
  },
  {
   "cell_type": "code",
   "execution_count": null,
   "id": "0fa72827-833c-4a56-bedb-623278d41c80",
   "metadata": {},
   "outputs": [
    {
     "name": "stderr",
     "output_type": "stream",
     "text": [
      "C:\\Users\\HomePC\\anaconda3\\Lib\\site-packages\\seaborn\\_oldcore.py:1119: FutureWarning: use_inf_as_na option is deprecated and will be removed in a future version. Convert inf values to NaN before operating instead.\n",
      "  with pd.option_context('mode.use_inf_as_na', True):\n",
      "C:\\Users\\HomePC\\anaconda3\\Lib\\site-packages\\seaborn\\_oldcore.py:1119: FutureWarning: use_inf_as_na option is deprecated and will be removed in a future version. Convert inf values to NaN before operating instead.\n",
      "  with pd.option_context('mode.use_inf_as_na', True):\n"
     ]
    }
   ],
   "source": [
    "plt.figure(figsize=(10, 6))\n",
    "sns.lineplot(data=df, x='Event.Date', y='Total.Fatal.Injuries')\n",
    "plt.title('Trend of Total Fatal Injuries Over Time')\n",
    "plt.xticks(rotation=45)\n",
    "plt.ylabel('Total Fatal Injuries')\n",
    "plt.grid()\n",
    "plt.show()\n"
   ]
  },
  {
   "cell_type": "code",
   "execution_count": null,
   "id": "0774ab08-39a4-4e31-bc58-82e31b9dbca7",
   "metadata": {},
   "outputs": [],
   "source": [
    "plt.figure(figsize=(10, 6))\n",
    "sns.histplot(df['Total.Fatal.Injuries'], bins=30, kde=True)\n",
    "plt.title('Distribution of Total Fatal Injuries')\n",
    "plt.xlabel('Total Fatal Injuries')\n",
    "plt.ylabel('Frequency')\n",
    "plt.grid()\n",
    "plt.show()\n",
    "\n"
   ]
  },
  {
   "cell_type": "code",
   "execution_count": null,
   "id": "869c4fb4-f721-4000-b191-4f01f784b4f0",
   "metadata": {},
   "outputs": [],
   "source": [
    "sns.pairplot(df[['Number.of.Engines', 'Total.Fatal.Injuries', 'Total.Serious.Injuries', 'Total.Minor.Injuries', 'Total.Uninjured']])\n",
    "plt.suptitle('Pair Plot of Injury Types and Number of Engines', y=1.02)\n",
    "plt.show()\n",
    "\n"
   ]
  },
  {
   "cell_type": "code",
   "execution_count": null,
   "id": "56f94d0b-0cd8-49e9-90d6-bba0f4f0c1de",
   "metadata": {},
   "outputs": [],
   "source": [
    "plt.figure(figsize=(10, 6))\n",
    "sns.violinplot(data=df, x='Weather.Condition', y='Total.Uninjured')\n",
    "plt.title('Distribution of Total Uninjured by Weather Condition')\n",
    "plt.xticks(rotation=45)\n",
    "plt.ylabel('Total Uninjured')\n",
    "plt.grid()\n",
    "plt.show()\n"
   ]
  },
  {
   "cell_type": "code",
   "execution_count": null,
   "id": "4b32100a-91d2-4bb9-a870-76b8e5e38a95",
   "metadata": {},
   "outputs": [],
   "source": [
    "plt.figure(figsize=(10, 6))\n",
    "avg_fatal_injuries = df.groupby('Aircraft.Category')['Total.Fatal.Injuries'].mean().reset_index()\n",
    "sns.barplot(data=avg_fatal_injuries, x='Aircraft.Category', y='Total.Fatal.Injuries')\n",
    "plt.title('Average Total Fatal Injuries by Aircraft Category')\n",
    "plt.xticks(rotation=45)\n",
    "plt.ylabel('Average Total Fatal Injuries')\n",
    "plt.grid()\n",
    "plt.show()\n"
   ]
  },
  {
   "cell_type": "code",
   "execution_count": null,
   "id": "1ebc0492-ee20-4998-a833-c7c3b78853fa",
   "metadata": {},
   "outputs": [],
   "source": [
    "\n",
    "\n",
    "# Assuming 'aviation_data_cleaned_revised' is your cleaned dataframe\n",
    "# Group the data by 'Number.of.Engines' and calculate the sum of 'Total.Uninjured'\n",
    "engine_uninjured = df.groupby('Number.of.Engines')['Total.Uninjured'].sum()\n",
    "\n",
    "# Plotting the bar chart\n",
    "plt.figure(figsize=(10, 6))\n",
    "engine_uninjured.plot(kind='bar', color='skyblue')\n",
    "\n",
    "# Adding labels and title\n",
    "plt.title('Total Uninjured Passengers by Number of Engines', fontsize=16)\n",
    "plt.xlabel('Number of Engines', fontsize=14)\n",
    "plt.ylabel('Total Uninjured Passengers', fontsize=14)\n",
    "\n",
    "# Display the chart\n",
    "plt.xticks(rotation=0)\n",
    "plt.tight_layout()\n",
    "plt.show()\n"
   ]
  },
  {
   "cell_type": "code",
   "execution_count": null,
   "id": "276e73b4-9d6e-4a0d-9be8-6a197b9c00dd",
   "metadata": {},
   "outputs": [],
   "source": [
    "\n",
    "\n",
    "# Assuming 'aviation_data_cleaned_revised' is your cleaned dataframe\n",
    "# Create a box plot for 'Total.Uninjured' grouped by 'Aircraft.damage' (accident categories)\n",
    "\n",
    "plt.figure(figsize=(10, 6))\n",
    "sns.boxplot(x='Aircraft.damage', y='Total.Uninjured', data=df, palette=\"Set3\")\n",
    "\n",
    "# Adding labels and title\n",
    "plt.title('Variance of Uninjured Passengers by Accident Categories', fontsize=16)\n",
    "plt.xlabel('Accident Category (Aircraft Damage)', fontsize=14)\n",
    "plt.ylabel('Total Uninjured Passengers', fontsize=14)\n",
    "\n",
    "# Display the plot\n",
    "plt.xticks(rotation=45)\n",
    "plt.tight_layout()\n",
    "plt.show()\n"
   ]
  },
  {
   "cell_type": "code",
   "execution_count": null,
   "id": "abaf9b0e-69a5-412a-9598-edec40e83aa5",
   "metadata": {},
   "outputs": [],
   "source": []
  },
  {
   "cell_type": "code",
   "execution_count": null,
   "id": "4270db86-eebb-4ae2-9dea-0db91be50220",
   "metadata": {},
   "outputs": [],
   "source": []
  },
  {
   "cell_type": "code",
   "execution_count": null,
   "id": "0e62ff58-6393-44f3-8dfc-cf7dfd584188",
   "metadata": {},
   "outputs": [],
   "source": []
  }
 ],
 "metadata": {
  "kernelspec": {
   "display_name": "Python 3 (ipykernel)",
   "language": "python",
   "name": "python3"
  },
  "language_info": {
   "codemirror_mode": {
    "name": "ipython",
    "version": 3
   },
   "file_extension": ".py",
   "mimetype": "text/x-python",
   "name": "python",
   "nbconvert_exporter": "python",
   "pygments_lexer": "ipython3",
   "version": "3.11.7"
  }
 },
 "nbformat": 4,
 "nbformat_minor": 5
}
